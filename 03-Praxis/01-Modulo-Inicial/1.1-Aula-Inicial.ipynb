{
 "cells": [
  {
   "cell_type": "markdown",
   "id": "38441efc",
   "metadata": {},
   "source": [
    "# 1.1 Aula Inicial"
   ]
  },
  {
   "cell_type": "markdown",
   "id": "b3870931",
   "metadata": {},
   "source": [
    "https://youtu.be/p0m8S7lvZ6g?si=dxaaJT00_fx4zWmO"
   ]
  },
  {
   "cell_type": "markdown",
   "id": "d52c5370",
   "metadata": {},
   "source": [
    "##\n",
    "- Algebrae Dedicata\n",
    "    - Shay - Pedro Nunez - 1567\n",
    "- Arithmeticae Dedicata\n",
    "    - Fractus - José Alpoim - 1744\n",
    "- Geometriae Dedicata\n",
    "    - Radix - Manoel de Campos - 1735\n",
    "    - Latus, Radix Q, Radix C"
   ]
  }
 ],
 "metadata": {
  "language_info": {
   "name": "python"
  }
 },
 "nbformat": 4,
 "nbformat_minor": 5
}
