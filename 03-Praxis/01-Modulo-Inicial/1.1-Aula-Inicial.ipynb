{
 "cells": [
  {
   "cell_type": "markdown",
   "id": "38441efc",
   "metadata": {},
   "source": [
    "# 1.1 Aula Inicial"
   ]
  },
  {
   "cell_type": "markdown",
   "id": "b3870931",
   "metadata": {},
   "source": [
    "https://youtu.be/p0m8S7lvZ6g"
   ]
  },
  {
   "cell_type": "markdown",
   "id": "d52c5370",
   "metadata": {},
   "source": [
    "##\n",
    "- Albebrae Dedicata\n",
    "    - Pedro Nunez - 1537\n",
    "- Arithmeticae Dedicata\n",
    "    -\n",
    "- Geometriae Dedicata\n",
    "    - Manoel de Campos - 17"
   ]
  }
 ],
 "metadata": {
  "language_info": {
   "name": "python"
  }
 },
 "nbformat": 4,
 "nbformat_minor": 5
}
