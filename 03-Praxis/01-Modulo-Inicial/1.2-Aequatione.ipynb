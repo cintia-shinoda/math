{
 "cells": [
  {
   "cell_type": "markdown",
   "id": "10c440d5",
   "metadata": {},
   "source": [
    "# 1.2 Aequatione"
   ]
  },
  {
   "cell_type": "markdown",
   "id": "3378a477",
   "metadata": {},
   "source": [
    "https://youtu.be/7pXCLCOvPto?si=ZVFfK6xTn535JA0x"
   ]
  },
  {
   "cell_type": "markdown",
   "id": "3eee713f",
   "metadata": {},
   "source": []
  }
 ],
 "metadata": {
  "language_info": {
   "name": "python"
  }
 },
 "nbformat": 4,
 "nbformat_minor": 5
}
